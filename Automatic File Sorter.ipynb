{
 "cells": [
  {
   "cell_type": "markdown",
   "id": "130ea134-3f71-4941-afbc-1324c135d445",
   "metadata": {},
   "source": [
    "# Automatic File Sorter in File Explorer"
   ]
  },
  {
   "cell_type": "code",
   "execution_count": 32,
   "id": "feef91bb-b525-4a41-91d6-298cfb8a47b1",
   "metadata": {},
   "outputs": [],
   "source": [
    "import os, shutil"
   ]
  },
  {
   "cell_type": "code",
   "execution_count": 34,
   "id": "ec9dd681-bd4c-432a-af2a-2461134cfcf4",
   "metadata": {},
   "outputs": [],
   "source": [
    "path = r\"C:/Users/shubh/OneDrive/Documents/Python/\""
   ]
  },
  {
   "cell_type": "code",
   "execution_count": 36,
   "id": "d933641d-1019-458d-9841-43200d98bb47",
   "metadata": {},
   "outputs": [],
   "source": [
    "file_name = os.listdir(path)"
   ]
  },
  {
   "cell_type": "code",
   "execution_count": 38,
   "id": "85df7247-5da8-464f-a776-8532ee0aa2df",
   "metadata": {},
   "outputs": [
    {
     "name": "stdout",
     "output_type": "stream",
     "text": [
      "C:/Users/shubh/OneDrive/Documents/Python/xlsx files\n",
      "C:/Users/shubh/OneDrive/Documents/Python/image files\n",
      "C:/Users/shubh/OneDrive/Documents/Python/text files\n"
     ]
    }
   ],
   "source": [
    "folder_names = ['xlsx files', 'image files', 'text files']\n",
    "\n",
    "for loop in range(0,3):\n",
    "    if not os.path.exists(path + folder_names[loop]):\n",
    "        os.makedirs(path + folder_names[loop])\n",
    "for file in file_name:\n",
    "    if \".xlsx\" in file and not os.path.exists(path + \"xlsx files/\" + file):\n",
    "        shutil.move(path + file, path + \"xlsx files/\" + file)\n",
    "    elif \".jpg\" in file and not os.path.exists(path + \"image files/\" + file):\n",
    "        shutil.move(path + file, path + \"image files/\" + file)\n",
    "    elif \".txt\" in file and not os.path.exists(path + \"text files/\" + file):\n",
    "        shutil.move(path + file, path + \"text files/\" + file)   "
   ]
  },
  {
   "cell_type": "code",
   "execution_count": 30,
   "id": "136407d6-3108-4534-b0bc-cb5e91554f76",
   "metadata": {},
   "outputs": [],
   "source": [
    "\n",
    "   "
   ]
  },
  {
   "cell_type": "code",
   "execution_count": null,
   "id": "024c3de5-0e0d-4d41-9cb4-fd98f24d31a5",
   "metadata": {},
   "outputs": [],
   "source": []
  }
 ],
 "metadata": {
  "kernelspec": {
   "display_name": "Python 3 (ipykernel)",
   "language": "python",
   "name": "python3"
  },
  "language_info": {
   "codemirror_mode": {
    "name": "ipython",
    "version": 3
   },
   "file_extension": ".py",
   "mimetype": "text/x-python",
   "name": "python",
   "nbconvert_exporter": "python",
   "pygments_lexer": "ipython3",
   "version": "3.12.4"
  }
 },
 "nbformat": 4,
 "nbformat_minor": 5
}
